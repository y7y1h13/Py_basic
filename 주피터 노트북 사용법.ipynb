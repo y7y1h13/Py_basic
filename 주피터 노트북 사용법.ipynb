{
 "cells": [
  {
   "cell_type": "code",
   "execution_count": 3,
   "metadata": {},
   "outputs": [
    {
     "name": "stdout",
     "output_type": "stream",
     "text": [
      "10\n"
     ]
    }
   ],
   "source": [
    "#파랑색이 명령모드 녹색이 입력모드\n",
    "\n",
    "#b = 밑에, a = 위에 dd = 삭제\n",
    "\n",
    "#shift + enter = 실행후 아래로\n",
    "\n",
    "#Ctrl + enter = 그냥 실행\n",
    "\n",
    "#m = 마크다운  y = 코드\n",
    "\n",
    "\n",
    "a = 10\n",
    "print(a)\n",
    "#asdf"
   ]
  },
  {
   "cell_type": "markdown",
   "metadata": {},
   "source": [
    "# Hello python\n",
    "## Hello python\n",
    "### Hello python\n",
    "#### Hello python"
   ]
  },
  {
   "cell_type": "markdown",
   "metadata": {},
   "source": [
    "**python** is really *cool*\n",
    "- python\n",
    "  - pandas\n",
    "    - depth1\n",
    "    - depth2\n",
    "  - numpy\n",
    "  \n",
    "- java\n",
    "- C++\n",
    "- golang\n",
    "\n",
    "1. python\n",
    "2. java\n",
    "3. c++\n",
    "\n",
    "> 파이썬은 재밌다고 하더라..\n",
    "\n",
    "$y = 3x$\n",
    "\n",
    "\n",
    "```python\n",
    "a = 10\n",
    "print(a)\n",
    "```\n",
    "\n",
    "[파이썬 공식 페이지](https://python.org)"
   ]
  },
  {
   "cell_type": "code",
   "execution_count": null,
   "metadata": {},
   "outputs": [],
   "source": []
  }
 ],
 "metadata": {
  "jupytext": {
   "formats": "ipynb,auto:light"
  },
  "kernelspec": {
   "display_name": "Python 3",
   "language": "python",
   "name": "python3"
  },
  "language_info": {
   "codemirror_mode": {
    "name": "ipython",
    "version": 3
   },
   "file_extension": ".py",
   "mimetype": "text/x-python",
   "name": "python",
   "nbconvert_exporter": "python",
   "pygments_lexer": "ipython3",
   "version": "3.8.3"
  }
 },
 "nbformat": 4,
 "nbformat_minor": 4
}
